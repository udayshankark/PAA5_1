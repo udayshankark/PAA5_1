{
 "cells": [
  {
   "cell_type": "markdown",
   "metadata": {},
   "source": [
    "### Will a Customer Accept the Coupon?\n",
    "\n",
    "**Context**\n",
    "\n",
    "Imagine driving through town and a coupon is delivered to your cell phone for a restaraunt near where you are driving. Would you accept that coupon and take a short detour to the restaraunt? Would you accept the coupon but use it on a sunbsequent trip? Would you ignore the coupon entirely? What if the coupon was for a bar instead of a restaraunt? What about a coffee house? Would you accept a bar coupon with a minor passenger in the car? What about if it was just you and your partner in the car? Would weather impact the rate of acceptance? What about the time of day?\n",
    "\n",
    "Obviously, proximity to the business is a factor on whether the coupon is delivered to the driver or not, but what are the factors that determine whether a driver accepts the coupon once it is delivered to them? How would you determine whether a driver is likely to accept a coupon?\n",
    "\n",
    "**Overview**\n",
    "\n",
    "The goal of this project is to use what you know about visualizations and probability distributions to distinguish between customers who accepted a driving coupon versus those that did not.\n",
    "\n",
    "**Data**\n",
    "\n",
    "This data comes to us from the UCI Machine Learning repository and was collected via a survey on Amazon Mechanical Turk. The survey describes different driving scenarios including the destination, current time, weather, passenger, etc., and then ask the person whether he will accept the coupon if he is the driver. Answers that the user will drive there ‘right away’ or ‘later before the coupon expires’ are labeled as ‘Y = 1’ and answers ‘no, I do not want the coupon’ are labeled as ‘Y = 0’.  There are five different types of coupons -- less expensive restaurants (under \\\\$20), coffee houses, carry out & take away, bar, and more expensive restaurants (\\\\$20 - \\\\$50). "
   ]
  },
  {
   "cell_type": "markdown",
   "metadata": {},
   "source": [
    "**Deliverables**\n",
    "\n",
    "Your final product should be a brief report that highlights the differences between customers who did and did not accept the coupons.  To explore the data you will utilize your knowledge of plotting, statistical summaries, and visualization using Python. You will publish your findings in a public facing github repository as your first portfolio piece. \n",
    "\n",
    "\n",
    "\n"
   ]
  },
  {
   "cell_type": "markdown",
   "metadata": {},
   "source": [
    "### Data Description\n",
    "Keep in mind that these values mentioned below are average values.\n",
    "\n",
    "The attributes of this data set include:\n",
    "1. User attributes\n",
    "    -  Gender: male, female\n",
    "    -  Age: below 21, 21 to 25, 26 to 30, etc.\n",
    "    -  Marital Status: single, married partner, unmarried partner, or widowed\n",
    "    -  Number of children: 0, 1, or more than 1\n",
    "    -  Education: high school, bachelors degree, associates degree, or graduate degree\n",
    "    -  Occupation: architecture & engineering, business & financial, etc.\n",
    "    -  Annual income: less than \\\\$12500, \\\\$12500 - \\\\$24999, \\\\$25000 - \\\\$37499, etc.\n",
    "    -  Number of times that he/she goes to a bar: 0, less than 1, 1 to 3, 4 to 8 or greater than 8\n",
    "    -  Number of times that he/she buys takeaway food: 0, less than 1, 1 to 3, 4 to 8 or greater\n",
    "    than 8\n",
    "    -  Number of times that he/she goes to a coffee house: 0, less than 1, 1 to 3, 4 to 8 or\n",
    "    greater than 8\n",
    "    -  Number of times that he/she eats at a restaurant with average expense less than \\\\$20 per\n",
    "    person: 0, less than 1, 1 to 3, 4 to 8 or greater than 8\n",
    "    -  Number of times that he/she goes to a bar: 0, less than 1, 1 to 3, 4 to 8 or greater than 8\n",
    "    \n",
    "\n",
    "2. Contextual attributes\n",
    "    - Driving destination: home, work, or no urgent destination\n",
    "    - Location of user, coupon and destination: we provide a map to show the geographical\n",
    "    location of the user, destination, and the venue, and we mark the distance between each\n",
    "    two places with time of driving. The user can see whether the venue is in the same\n",
    "    direction as the destination.\n",
    "    - Weather: sunny, rainy, or snowy\n",
    "    - Temperature: 30F, 55F, or 80F\n",
    "    - Time: 10AM, 2PM, or 6PM\n",
    "    - Passenger: alone, partner, kid(s), or friend(s)\n",
    "\n",
    "\n",
    "3. Coupon attributes\n",
    "    - time before it expires: 2 hours or one day"
   ]
  },
  {
   "cell_type": "code",
   "execution_count": 331,
   "metadata": {},
   "outputs": [],
   "source": [
    "import matplotlib.pyplot as plt\n",
    "import seaborn as sns\n",
    "import pandas as pd\n",
    "import numpy as np"
   ]
  },
  {
   "cell_type": "markdown",
   "metadata": {},
   "source": [
    "### Problems\n",
    "\n",
    "Use the prompts below to get started with your data analysis.  \n",
    "\n",
    "1. Read in the `coupons.csv` file.\n",
    "\n",
    "\n"
   ]
  },
  {
   "cell_type": "code",
   "execution_count": 334,
   "metadata": {},
   "outputs": [],
   "source": [
    "data = pd.read_csv('/Users/uday.kemburu/Downloads/assignment_5_1_starter/data/coupons.csv')"
   ]
  },
  {
   "cell_type": "code",
   "execution_count": 336,
   "metadata": {},
   "outputs": [
    {
     "data": {
      "text/html": [
       "<div>\n",
       "<style scoped>\n",
       "    .dataframe tbody tr th:only-of-type {\n",
       "        vertical-align: middle;\n",
       "    }\n",
       "\n",
       "    .dataframe tbody tr th {\n",
       "        vertical-align: top;\n",
       "    }\n",
       "\n",
       "    .dataframe thead th {\n",
       "        text-align: right;\n",
       "    }\n",
       "</style>\n",
       "<table border=\"1\" class=\"dataframe\">\n",
       "  <thead>\n",
       "    <tr style=\"text-align: right;\">\n",
       "      <th></th>\n",
       "      <th>destination</th>\n",
       "      <th>passanger</th>\n",
       "      <th>weather</th>\n",
       "      <th>temperature</th>\n",
       "      <th>time</th>\n",
       "      <th>coupon</th>\n",
       "      <th>expiration</th>\n",
       "      <th>gender</th>\n",
       "      <th>age</th>\n",
       "      <th>maritalStatus</th>\n",
       "      <th>...</th>\n",
       "      <th>CoffeeHouse</th>\n",
       "      <th>CarryAway</th>\n",
       "      <th>RestaurantLessThan20</th>\n",
       "      <th>Restaurant20To50</th>\n",
       "      <th>toCoupon_GEQ5min</th>\n",
       "      <th>toCoupon_GEQ15min</th>\n",
       "      <th>toCoupon_GEQ25min</th>\n",
       "      <th>direction_same</th>\n",
       "      <th>direction_opp</th>\n",
       "      <th>Y</th>\n",
       "    </tr>\n",
       "  </thead>\n",
       "  <tbody>\n",
       "    <tr>\n",
       "      <th>0</th>\n",
       "      <td>No Urgent Place</td>\n",
       "      <td>Alone</td>\n",
       "      <td>Sunny</td>\n",
       "      <td>55</td>\n",
       "      <td>2PM</td>\n",
       "      <td>Restaurant(&lt;20)</td>\n",
       "      <td>1d</td>\n",
       "      <td>Female</td>\n",
       "      <td>21</td>\n",
       "      <td>Unmarried partner</td>\n",
       "      <td>...</td>\n",
       "      <td>never</td>\n",
       "      <td>NaN</td>\n",
       "      <td>4~8</td>\n",
       "      <td>1~3</td>\n",
       "      <td>1</td>\n",
       "      <td>0</td>\n",
       "      <td>0</td>\n",
       "      <td>0</td>\n",
       "      <td>1</td>\n",
       "      <td>1</td>\n",
       "    </tr>\n",
       "    <tr>\n",
       "      <th>1</th>\n",
       "      <td>No Urgent Place</td>\n",
       "      <td>Friend(s)</td>\n",
       "      <td>Sunny</td>\n",
       "      <td>80</td>\n",
       "      <td>10AM</td>\n",
       "      <td>Coffee House</td>\n",
       "      <td>2h</td>\n",
       "      <td>Female</td>\n",
       "      <td>21</td>\n",
       "      <td>Unmarried partner</td>\n",
       "      <td>...</td>\n",
       "      <td>never</td>\n",
       "      <td>NaN</td>\n",
       "      <td>4~8</td>\n",
       "      <td>1~3</td>\n",
       "      <td>1</td>\n",
       "      <td>0</td>\n",
       "      <td>0</td>\n",
       "      <td>0</td>\n",
       "      <td>1</td>\n",
       "      <td>0</td>\n",
       "    </tr>\n",
       "    <tr>\n",
       "      <th>2</th>\n",
       "      <td>No Urgent Place</td>\n",
       "      <td>Friend(s)</td>\n",
       "      <td>Sunny</td>\n",
       "      <td>80</td>\n",
       "      <td>10AM</td>\n",
       "      <td>Carry out &amp; Take away</td>\n",
       "      <td>2h</td>\n",
       "      <td>Female</td>\n",
       "      <td>21</td>\n",
       "      <td>Unmarried partner</td>\n",
       "      <td>...</td>\n",
       "      <td>never</td>\n",
       "      <td>NaN</td>\n",
       "      <td>4~8</td>\n",
       "      <td>1~3</td>\n",
       "      <td>1</td>\n",
       "      <td>1</td>\n",
       "      <td>0</td>\n",
       "      <td>0</td>\n",
       "      <td>1</td>\n",
       "      <td>1</td>\n",
       "    </tr>\n",
       "    <tr>\n",
       "      <th>3</th>\n",
       "      <td>No Urgent Place</td>\n",
       "      <td>Friend(s)</td>\n",
       "      <td>Sunny</td>\n",
       "      <td>80</td>\n",
       "      <td>2PM</td>\n",
       "      <td>Coffee House</td>\n",
       "      <td>2h</td>\n",
       "      <td>Female</td>\n",
       "      <td>21</td>\n",
       "      <td>Unmarried partner</td>\n",
       "      <td>...</td>\n",
       "      <td>never</td>\n",
       "      <td>NaN</td>\n",
       "      <td>4~8</td>\n",
       "      <td>1~3</td>\n",
       "      <td>1</td>\n",
       "      <td>1</td>\n",
       "      <td>0</td>\n",
       "      <td>0</td>\n",
       "      <td>1</td>\n",
       "      <td>0</td>\n",
       "    </tr>\n",
       "    <tr>\n",
       "      <th>4</th>\n",
       "      <td>No Urgent Place</td>\n",
       "      <td>Friend(s)</td>\n",
       "      <td>Sunny</td>\n",
       "      <td>80</td>\n",
       "      <td>2PM</td>\n",
       "      <td>Coffee House</td>\n",
       "      <td>1d</td>\n",
       "      <td>Female</td>\n",
       "      <td>21</td>\n",
       "      <td>Unmarried partner</td>\n",
       "      <td>...</td>\n",
       "      <td>never</td>\n",
       "      <td>NaN</td>\n",
       "      <td>4~8</td>\n",
       "      <td>1~3</td>\n",
       "      <td>1</td>\n",
       "      <td>1</td>\n",
       "      <td>0</td>\n",
       "      <td>0</td>\n",
       "      <td>1</td>\n",
       "      <td>0</td>\n",
       "    </tr>\n",
       "  </tbody>\n",
       "</table>\n",
       "<p>5 rows × 26 columns</p>\n",
       "</div>"
      ],
      "text/plain": [
       "       destination  passanger weather  temperature  time  \\\n",
       "0  No Urgent Place      Alone   Sunny           55   2PM   \n",
       "1  No Urgent Place  Friend(s)   Sunny           80  10AM   \n",
       "2  No Urgent Place  Friend(s)   Sunny           80  10AM   \n",
       "3  No Urgent Place  Friend(s)   Sunny           80   2PM   \n",
       "4  No Urgent Place  Friend(s)   Sunny           80   2PM   \n",
       "\n",
       "                  coupon expiration  gender age      maritalStatus  ...  \\\n",
       "0        Restaurant(<20)         1d  Female  21  Unmarried partner  ...   \n",
       "1           Coffee House         2h  Female  21  Unmarried partner  ...   \n",
       "2  Carry out & Take away         2h  Female  21  Unmarried partner  ...   \n",
       "3           Coffee House         2h  Female  21  Unmarried partner  ...   \n",
       "4           Coffee House         1d  Female  21  Unmarried partner  ...   \n",
       "\n",
       "   CoffeeHouse CarryAway RestaurantLessThan20 Restaurant20To50  \\\n",
       "0        never       NaN                  4~8              1~3   \n",
       "1        never       NaN                  4~8              1~3   \n",
       "2        never       NaN                  4~8              1~3   \n",
       "3        never       NaN                  4~8              1~3   \n",
       "4        never       NaN                  4~8              1~3   \n",
       "\n",
       "  toCoupon_GEQ5min toCoupon_GEQ15min toCoupon_GEQ25min direction_same  \\\n",
       "0                1                 0                 0              0   \n",
       "1                1                 0                 0              0   \n",
       "2                1                 1                 0              0   \n",
       "3                1                 1                 0              0   \n",
       "4                1                 1                 0              0   \n",
       "\n",
       "  direction_opp  Y  \n",
       "0             1  1  \n",
       "1             1  0  \n",
       "2             1  1  \n",
       "3             1  0  \n",
       "4             1  0  \n",
       "\n",
       "[5 rows x 26 columns]"
      ]
     },
     "execution_count": 336,
     "metadata": {},
     "output_type": "execute_result"
    }
   ],
   "source": [
    "data.head()\n"
   ]
  },
  {
   "cell_type": "code",
   "execution_count": 338,
   "metadata": {},
   "outputs": [
    {
     "name": "stdout",
     "output_type": "stream",
     "text": [
      "<class 'pandas.core.frame.DataFrame'>\n",
      "RangeIndex: 12684 entries, 0 to 12683\n",
      "Data columns (total 26 columns):\n",
      " #   Column                Non-Null Count  Dtype \n",
      "---  ------                --------------  ----- \n",
      " 0   destination           12684 non-null  object\n",
      " 1   passanger             12684 non-null  object\n",
      " 2   weather               12684 non-null  object\n",
      " 3   temperature           12684 non-null  int64 \n",
      " 4   time                  12684 non-null  object\n",
      " 5   coupon                12684 non-null  object\n",
      " 6   expiration            12684 non-null  object\n",
      " 7   gender                12684 non-null  object\n",
      " 8   age                   12684 non-null  object\n",
      " 9   maritalStatus         12684 non-null  object\n",
      " 10  has_children          12684 non-null  int64 \n",
      " 11  education             12684 non-null  object\n",
      " 12  occupation            12684 non-null  object\n",
      " 13  income                12684 non-null  object\n",
      " 14  car                   108 non-null    object\n",
      " 15  Bar                   12577 non-null  object\n",
      " 16  CoffeeHouse           12467 non-null  object\n",
      " 17  CarryAway             12533 non-null  object\n",
      " 18  RestaurantLessThan20  12554 non-null  object\n",
      " 19  Restaurant20To50      12495 non-null  object\n",
      " 20  toCoupon_GEQ5min      12684 non-null  int64 \n",
      " 21  toCoupon_GEQ15min     12684 non-null  int64 \n",
      " 22  toCoupon_GEQ25min     12684 non-null  int64 \n",
      " 23  direction_same        12684 non-null  int64 \n",
      " 24  direction_opp         12684 non-null  int64 \n",
      " 25  Y                     12684 non-null  int64 \n",
      "dtypes: int64(8), object(18)\n",
      "memory usage: 2.5+ MB\n"
     ]
    }
   ],
   "source": [
    "data.info()\n",
    "# 26 Columns"
   ]
  },
  {
   "cell_type": "code",
   "execution_count": null,
   "metadata": {},
   "outputs": [],
   "source": []
  },
  {
   "cell_type": "markdown",
   "metadata": {},
   "source": [
    "2. Investigate the dataset for missing or problematic data."
   ]
  },
  {
   "cell_type": "code",
   "execution_count": 344,
   "metadata": {},
   "outputs": [
    {
     "name": "stdout",
     "output_type": "stream",
     "text": [
      "Total number of duplicate rows: 74\n",
      "--------------------------------------------------\n",
      "\n",
      "Column: destination\n",
      "Number of unique values: 3\n",
      "Unique values:\n",
      "['No Urgent Place' 'Home' 'Work']\n",
      "--------------------------------------------------\n",
      "\n",
      "Column: passanger\n",
      "Number of unique values: 4\n",
      "Unique values:\n",
      "['Alone' 'Friend(s)' 'Kid(s)' 'Partner']\n",
      "--------------------------------------------------\n",
      "\n",
      "Column: weather\n",
      "Number of unique values: 3\n",
      "Unique values:\n",
      "['Sunny' 'Rainy' 'Snowy']\n",
      "--------------------------------------------------\n",
      "\n",
      "Column: temperature\n",
      "Number of unique values: 3\n",
      "Unique values:\n",
      "[55 80 30]\n",
      "--------------------------------------------------\n",
      "\n",
      "Column: time\n",
      "Number of unique values: 5\n",
      "Unique values:\n",
      "['2PM' '10AM' '6PM' '7AM' '10PM']\n",
      "--------------------------------------------------\n",
      "\n",
      "Column: coupon\n",
      "Number of unique values: 5\n",
      "Unique values:\n",
      "['Restaurant(<20)' 'Coffee House' 'Carry out & Take away' 'Bar'\n",
      " 'Restaurant(20-50)']\n",
      "--------------------------------------------------\n",
      "\n",
      "Column: expiration\n",
      "Number of unique values: 2\n",
      "Unique values:\n",
      "['1d' '2h']\n",
      "--------------------------------------------------\n",
      "\n",
      "Column: gender\n",
      "Number of unique values: 2\n",
      "Unique values:\n",
      "['Female' 'Male']\n",
      "--------------------------------------------------\n",
      "\n",
      "Column: age\n",
      "Number of unique values: 8\n",
      "Unique values:\n",
      "['21' '46' '26' '31' '41' '50plus' '36' 'below21']\n",
      "--------------------------------------------------\n",
      "\n",
      "Column: maritalStatus\n",
      "Number of unique values: 5\n",
      "Unique values:\n",
      "['Unmarried partner' 'Single' 'Married partner' 'Divorced' 'Widowed']\n",
      "--------------------------------------------------\n",
      "\n",
      "Column: has_children\n",
      "Number of unique values: 2\n",
      "Unique values:\n",
      "[1 0]\n",
      "--------------------------------------------------\n",
      "\n",
      "Column: education\n",
      "Number of unique values: 6\n",
      "Unique values:\n",
      "['Some college - no degree' 'Bachelors degree' 'Associates degree'\n",
      " 'High School Graduate' 'Graduate degree (Masters or Doctorate)'\n",
      " 'Some High School']\n",
      "--------------------------------------------------\n",
      "\n",
      "Column: occupation\n",
      "Number of unique values: 25\n",
      "Unique values:\n",
      "['Unemployed' 'Architecture & Engineering' 'Student'\n",
      " 'Education&Training&Library' 'Healthcare Support'\n",
      " 'Healthcare Practitioners & Technical' 'Sales & Related' 'Management'\n",
      " 'Arts Design Entertainment Sports & Media' 'Computer & Mathematical'] ... (truncated)\n",
      "--------------------------------------------------\n",
      "\n",
      "Column: income\n",
      "Number of unique values: 9\n",
      "Unique values:\n",
      "['$37500 - $49999' '$62500 - $74999' '$12500 - $24999' '$75000 - $87499'\n",
      " '$50000 - $62499' '$25000 - $37499' '$100000 or More' '$87500 - $99999'\n",
      " 'Less than $12500']\n",
      "--------------------------------------------------\n",
      "\n",
      "Column: car\n",
      "Number of unique values: 6\n",
      "Unique values:\n",
      "[nan 'Scooter and motorcycle' 'crossover' 'Mazda5' 'do not drive'\n",
      " 'Car that is too old to install Onstar :D']\n",
      "--------------------------------------------------\n",
      "\n",
      "Column: Bar\n",
      "Number of unique values: 6\n",
      "Unique values:\n",
      "['never' 'less1' '1~3' 'gt8' nan '4~8']\n",
      "--------------------------------------------------\n",
      "\n",
      "Column: CoffeeHouse\n",
      "Number of unique values: 6\n",
      "Unique values:\n",
      "['never' 'less1' '4~8' '1~3' 'gt8' nan]\n",
      "--------------------------------------------------\n",
      "\n",
      "Column: CarryAway\n",
      "Number of unique values: 6\n",
      "Unique values:\n",
      "[nan '4~8' '1~3' 'gt8' 'less1' 'never']\n",
      "--------------------------------------------------\n",
      "\n",
      "Column: RestaurantLessThan20\n",
      "Number of unique values: 6\n",
      "Unique values:\n",
      "['4~8' '1~3' 'less1' 'gt8' nan 'never']\n",
      "--------------------------------------------------\n",
      "\n",
      "Column: Restaurant20To50\n",
      "Number of unique values: 6\n",
      "Unique values:\n",
      "['1~3' 'less1' 'never' 'gt8' '4~8' nan]\n",
      "--------------------------------------------------\n",
      "\n",
      "Column: toCoupon_GEQ5min\n",
      "Number of unique values: 1\n",
      "Unique values:\n",
      "[1]\n",
      "--------------------------------------------------\n",
      "\n",
      "Column: toCoupon_GEQ15min\n",
      "Number of unique values: 2\n",
      "Unique values:\n",
      "[0 1]\n",
      "--------------------------------------------------\n",
      "\n",
      "Column: toCoupon_GEQ25min\n",
      "Number of unique values: 2\n",
      "Unique values:\n",
      "[0 1]\n",
      "--------------------------------------------------\n",
      "\n",
      "Column: direction_same\n",
      "Number of unique values: 2\n",
      "Unique values:\n",
      "[0 1]\n",
      "--------------------------------------------------\n",
      "\n",
      "Column: direction_opp\n",
      "Number of unique values: 2\n",
      "Unique values:\n",
      "[1 0]\n",
      "--------------------------------------------------\n",
      "\n",
      "Column: Y\n",
      "Number of unique values: 2\n",
      "Unique values:\n",
      "[1 0]\n",
      "--------------------------------------------------\n",
      "Columns with null values and their null counts:\n",
      "--------------------------------------------------\n",
      "car: 12576\n",
      "Bar: 107\n",
      "CoffeeHouse: 217\n",
      "CarryAway: 151\n",
      "RestaurantLessThan20: 130\n",
      "Restaurant20To50: 189\n",
      "--------------------------------------------------\n",
      "Columns with null values %:\n",
      "--------------------------------------------------\n",
      "car: 12576 null values (99.15% of total)\n",
      "Bar: 107 null values (0.84% of total)\n",
      "CoffeeHouse: 217 null values (1.71% of total)\n",
      "CarryAway: 151 null values (1.19% of total)\n",
      "RestaurantLessThan20: 130 null values (1.02% of total)\n",
      "Restaurant20To50: 189 null values (1.49% of total)\n"
     ]
    }
   ],
   "source": [
    "# Investigate by examining the row and column data\n",
    "\n",
    "# Count the total number of duplicate rows\n",
    "duplicate_count = data.duplicated().sum()\n",
    "print(f\"Total number of duplicate rows: {duplicate_count}\")\n",
    "print(\"-\" * 50)\n",
    "\n",
    "# Examine Unique column values to see if data needs to resolve structural errors\n",
    "for column in data.columns:\n",
    "    unique_values = data[column].unique()\n",
    "    print(f\"\\nColumn: {column}\")\n",
    "    print(f\"Number of unique values: {len(unique_values)}\")\n",
    "    print(\"Unique values:\")\n",
    "    \n",
    "    # Print the first 10 unique values\n",
    "    if len(unique_values) > 10:\n",
    "        print(unique_values[:10], \"... (truncated)\")\n",
    "    else:\n",
    "        print(unique_values)\n",
    "    \n",
    "    print(\"-\" * 50)  # Print a separator line\n",
    "\n",
    "\n",
    "# null columns and null counts\n",
    "null_columns = data.columns[data.isnull().any()].tolist()\n",
    "null_counts = data[null_columns].isnull().sum()\n",
    "\n",
    "# print columns with null values along with the count of null values\n",
    "print(\"Columns with null values and their null counts:\")\n",
    "print(\"-\" * 50)\n",
    "for column, count in null_counts.items():\n",
    "    print(f\"{column}: {count}\")\n",
    "print(\"-\" * 50)   \n",
    "#percentage of null values per columns out of total rows\n",
    "print(\"Columns with null values %:\")\n",
    "print(\"-\" * 50)\n",
    "total_rows = len(data)\n",
    "for column, count in null_counts.items():\n",
    "    percentage = (count / total_rows) * 100\n",
    "    print(f\"{column}: {count} null values ({percentage:.2f}% of total)\")"
   ]
  },
  {
   "cell_type": "code",
   "execution_count": 346,
   "metadata": {},
   "outputs": [],
   "source": [
    "# Analysis\n",
    "# number of duplicate rows: 74\n",
    "# --------------------------------------------------\n",
    "# Columns with null values and their null counts:\n",
    "# --------------------------------------------------\n",
    "# car: 12576\n",
    "# Bar: 107\n",
    "# CoffeeHouse: 217\n",
    "# CarryAway: 151\n",
    "# RestaurantLessThan20: 130\n",
    "# Restaurant20To50: 189\n",
    "# --------------------------------------------------\n",
    "# Columns with null values %:\n",
    "# --------------------------------------------------\n",
    "# car: 12576 null values (99.15% of total)\n",
    "# Bar: 107 null values (0.84% of total)\n",
    "# CoffeeHouse: 217 null values (1.71% of total)\n",
    "# CarryAway: 151 null values (1.19% of total)\n",
    "# RestaurantLessThan20: 130 null values (1.02% of total)\n",
    "# Restaurant20To50: 189 null values (1.49% of total)"
   ]
  },
  {
   "cell_type": "markdown",
   "metadata": {},
   "source": [
    "3. Decide what to do about your missing data -- drop, replace, other..."
   ]
  },
  {
   "cell_type": "code",
   "execution_count": 349,
   "metadata": {},
   "outputs": [
    {
     "name": "stdout",
     "output_type": "stream",
     "text": [
      "Initial number of rows: 12684\n",
      "Number of rows after removing duplicates: 12610\n"
     ]
    }
   ],
   "source": [
    "# Remove Duplicate rows\n",
    "\n",
    "data_no_duplicates = data.drop_duplicates()\n",
    "\n",
    "# For Columns with missing data I am replacing them with 'unknown' before working on these columns in the subsequent questions.\n",
    "# Reason for not dropping the entire row is that these rows may contain useful information about other columns\n",
    "# Replace null values with \"Unknown\" for all columns\n",
    "data = data.fillna(\"Unknown\")\n"
   ]
  },
  {
   "cell_type": "code",
   "execution_count": 351,
   "metadata": {},
   "outputs": [],
   "source": [
    "#Initial number of rows: 12684\n",
    "#Number of rows after removing duplicates: 12610"
   ]
  },
  {
   "cell_type": "markdown",
   "metadata": {},
   "source": [
    "4. What proportion of the total observations chose to accept the coupon? \n",
    "\n"
   ]
  },
  {
   "cell_type": "code",
   "execution_count": 401,
   "metadata": {},
   "outputs": [
    {
     "data": {
      "image/png": "[encoded data removed]",
      "text/plain": [
       "<Figure size 1000x700 with 1 Axes>"
      ]
     },
     "metadata": {},
     "output_type": "display_data"
    }
   ],
   "source": [
    "# Calculate the proportion of acceptances\n",
    "total_observations = len(data)\n",
    "acceptances = data['Y'].sum()\n",
    "if total_observations != 0:\n",
    "    proportion_accepted = acceptances / total_observations\n",
    "    \n",
    "#Create a Pie-Chart\n",
    "# Count the occurrences of each value\n",
    "value_counts = data['Y'].value_counts()\n",
    "\n",
    "# Create labels for the pie chart\n",
    "labels = ['Rejected', 'Accepted']\n",
    "sizes = [value_counts.get(0, 0), value_counts.get(1, 0)]\n",
    "colors = ['#ff9999', '#66b3ff']\n",
    "\n",
    "# Create pie chart\n",
    "plt.figure(figsize=(10, 7))\n",
    "plt.pie(sizes, labels=labels, colors=colors, autopct='%1.1f%%', startangle=90)\n",
    "plt.axis('equal')  \n",
    "plt.title('Distribution of Coupon Acceptance')\n",
    "plt.legend(labels, loc=\"best\")\n",
    "file_path = '/Users/uday.kemburu/Documents/Berkley/PAA5_1/images/q4_pie_chart.png'\n",
    "\n",
    "# Save the figure\n",
    "plt.savefig(file_path, dpi=300, bbox_inches='tight')\n",
    "\n",
    "# Show the plot\n",
    "plt.show()"
   ]
  },
  {
   "cell_type": "code",
   "execution_count": null,
   "metadata": {},
   "outputs": [],
   "source": [
    "#Percentage of coupon acceptances: 56.84%"
   ]
  },
  {
   "cell_type": "markdown",
   "metadata": {},
   "source": [
    "5. Use a bar plot to visualize the `coupon` column."
   ]
  },
  {
   "cell_type": "code",
   "execution_count": 358,
   "metadata": {},
   "outputs": [
    {
     "data": {
      "image/png": "[encoded data removed]",
      "text/plain": [
       "<Figure size 1200x600 with 1 Axes>"
      ]
     },
     "metadata": {},
     "output_type": "display_data"
    }
   ],
   "source": [
    "# Count the occurrences of each coupon type\n",
    "coupon_counts = data['coupon'].value_counts()\n",
    "\n",
    "# Create bar plot\n",
    "plt.figure(figsize=(12, 6))\n",
    "bars = plt.bar(coupon_counts.index, coupon_counts.values, color='skyblue', edgecolor='navy')\n",
    "\n",
    "# Customize the plot\n",
    "plt.title('Distribution of Coupon Types', fontsize=16)\n",
    "plt.xlabel('Coupon Type', fontsize=12)\n",
    "plt.ylabel('Count', fontsize=12)\n",
    "plt.xticks(rotation=45, ha='right')\n",
    "\n",
    "file_path = '/Users/uday.kemburu/Documents/Berkley/PAA5_1/images/q5_coupon_bar_plot.png'\n",
    "\n",
    "# Save the figure\n",
    "plt.savefig(file_path, dpi=300, bbox_inches='tight')\n",
    "\n",
    "# Adjust layout and display the plot\n",
    "plt.tight_layout()\n",
    "plt.show()"
   ]
  },
  {
   "cell_type": "markdown",
   "metadata": {},
   "source": [
    "6. Use a histogram to visualize the temperature column."
   ]
  },
  {
   "cell_type": "code",
   "execution_count": 360,
   "metadata": {},
   "outputs": [
    {
     "data": {
      "image/png": "[encoded data removed]",
      "text/plain": [
       "<Figure size 1000x600 with 1 Axes>"
      ]
     },
     "metadata": {},
     "output_type": "display_data"
    }
   ],
   "source": [
    "\n",
    "\n",
    "# Create histogram\n",
    "plt.figure(figsize=(10, 6))\n",
    "plt.hist(data['temperature'], bins='auto', edgecolor='black')\n",
    "\n",
    "# Name the plot\n",
    "plt.title('Distribution of Temperatures', fontsize=16)\n",
    "plt.xlabel('Temperature', fontsize=12)\n",
    "plt.ylabel('Frequency', fontsize=12)\n",
    "\n",
    "file_path = '/Users/uday.kemburu/Documents/Berkley/PAA5_1/images/q6_histogram_temperature_plot.png'\n",
    "\n",
    "# Save the figure\n",
    "plt.savefig(file_path, dpi=300, bbox_inches='tight')\n",
    "\n",
    "plt.show()\n"
   ]
  },
  {
   "cell_type": "code",
   "execution_count": null,
   "metadata": {},
   "outputs": [],
   "source": []
  },
  {
   "cell_type": "code",
   "execution_count": null,
   "metadata": {},
   "outputs": [],
   "source": []
  },
  {
   "cell_type": "code",
   "execution_count": null,
   "metadata": {},
   "outputs": [],
   "source": []
  },
  {
   "cell_type": "code",
   "execution_count": null,
   "metadata": {},
   "outputs": [],
   "source": []
  },
  {
   "cell_type": "markdown",
   "metadata": {},
   "source": [
    "**Investigating the Bar Coupons**\n",
    "\n",
    "Now, we will lead you through an exploration of just the bar related coupons.  \n",
    "\n",
    "1. Create a new `DataFrame` that contains just the bar coupons.\n"
   ]
  },
  {
   "cell_type": "code",
   "execution_count": 273,
   "metadata": {},
   "outputs": [
    {
     "name": "stdout",
     "output_type": "stream",
     "text": [
      "2017\n"
     ]
    }
   ],
   "source": [
    "bar_coupons_df = data[data['coupon'] == 'Bar']\n",
    "print(len(bar_coupons_df))\n"
   ]
  },
  {
   "cell_type": "markdown",
   "metadata": {},
   "source": [
    "2. What proportion of bar coupons were accepted?\n"
   ]
  },
  {
   "cell_type": "code",
   "execution_count": 269,
   "metadata": {},
   "outputs": [
    {
     "name": "stdout",
     "output_type": "stream",
     "text": [
      "Percentage of acceptances: 41.03%\n"
     ]
    }
   ],
   "source": [
    "# Calculate the proportion of acceptances\n",
    "total_observations = len(bar_coupons_df)\n",
    "acceptances = bar_coupons_df['Y'].sum()\n",
    "if total_observations != 0:\n",
    "    proportion_accepted = acceptances / total_observations\n",
    "    "
   ]
  },
  {
   "cell_type": "code",
   "execution_count": 403,
   "metadata": {},
   "outputs": [],
   "source": [
    "#Percentage of bar coupons acceptances: 41.03%"
   ]
  },
  {
   "cell_type": "markdown",
   "metadata": {},
   "source": [
    "3. Compare the acceptance rate between those who went to a bar 3 or fewer times a month to those who went more.\n"
   ]
  },
  {
   "cell_type": "code",
   "execution_count": 405,
   "metadata": {},
   "outputs": [],
   "source": [
    "#Acceptance rate of Bar Coupon of those who went to a bar 3 or fewer times a month\n",
    "bar_coupons_fewer_visits = bar_coupons_df[bar_coupons_df['Bar'].isin(['1~3', 'less1'])]\n",
    "total_observations = len(bar_coupons_fewer_visits)\n",
    "acceptances = bar_coupons_fewer_visits['Y'].sum()\n",
    "if total_observations != 0:\n",
    "    proportion_accepted = acceptances / total_observations\n",
    "    \n",
    "\n",
    "#Acceptance rate of Bar Coupon of those who went to a bar3 or more than times a month\n",
    "bar_coupons_frequent_visits = bar_coupons_df[bar_coupons_df['Bar'].isin(['4~8', 'gt8'])]\n",
    "total_observations = len(bar_coupons_frequent_visits)\n",
    "acceptances = bar_coupons_frequent_visits['Y'].sum()\n",
    "if total_observations != 0:\n",
    "    proportion_accepted = acceptances / total_observations\n",
    "    "
   ]
  },
  {
   "cell_type": "code",
   "execution_count": null,
   "metadata": {},
   "outputs": [],
   "source": [
    "#Frequency of bar visits:\n",
    "\n",
    "#Those who visit bars more frequently (>3 times a month) have a significantly higher acceptance rate (76.88%) \n",
    "#compared to less frequent visitors (≤3 times a month, 52.74%).\n",
    "#This suggests that regular bar-goers are more likely to use coupons, possibly due to their higher interest in bar experiences."
   ]
  },
  {
   "cell_type": "markdown",
   "metadata": {},
   "source": [
    "4. Compare the acceptance rate between drivers who go to a bar more than once a month and are over the age of 25 to the all others.  Is there a difference?\n"
   ]
  },
  {
   "cell_type": "code",
   "execution_count": 407,
   "metadata": {},
   "outputs": [],
   "source": [
    "# Acceptance rate of Bar Coupons drivers who go to a bar more than once a month and are over the age of 25\n",
    "frequent_bar_adults = bar_coupons_df[\n",
    "    (bar_coupons_df['Bar'].isin(['1~3', '4~8', 'gt8'])) & \n",
    "    (~bar_coupons_df['age'].isin(['21', 'below21']))\n",
    "]\n",
    "\n",
    "total_observations = len(frequent_bar_adults)\n",
    "acceptances = frequent_bar_adults['Y'].sum()\n",
    "if total_observations != 0:\n",
    "    proportion_accepted = acceptances / total_observations\n",
    "   \n",
    "#Acceptance rate of Bar Coupons drivers who go to a bar less than/never once month and are under the age of 25\n",
    "infrequent_bar_under25 = bar_coupons_df[\n",
    "    (bar_coupons_df['Bar'].isin(['less1', 'never'])) & \n",
    "    (bar_coupons_df['age'].isin(['21', 'below21']))\n",
    "]\n",
    "\n",
    "total_observations = len(infrequent_bar_under25)\n",
    "acceptances = infrequent_bar_under25['Y'].sum()\n",
    "if total_observations != 0:\n",
    "    proportion_accepted = acceptances / total_observations\n",
    "   "
   ]
  },
  {
   "cell_type": "code",
   "execution_count": null,
   "metadata": {},
   "outputs": [],
   "source": [
    "#Age and frequency of visits:\n",
    "\n",
    "    #Drivers over 25 who visit bars more than once a month have a higher acceptance rate (69.52%) \n",
    "    #compared to those under 25 who visit less than once a month (39.45%).\n",
    "\n",
    "    #This indicates that age and visit frequency together play a role in coupon acceptance, \n",
    "    #with older, more frequent visitors being more receptive."
   ]
  },
  {
   "cell_type": "markdown",
   "metadata": {},
   "source": [
    "5. Use the same process to compare the acceptance rate between drivers who go to bars more than once a month and had passengers that were not a kid and had occupations other than farming, fishing, or forestry. \n"
   ]
  },
  {
   "cell_type": "code",
   "execution_count": 281,
   "metadata": {},
   "outputs": [
    {
     "name": "stdout",
     "output_type": "stream",
     "text": [
      "Acceptance rate of Bar Coupons of Urban Younger Population who go to bar frequently: 71.79%\n",
      "Acceptance rate of Bar Coupons of Rural  Population who go to bar infrequently: 50.00%\n"
     ]
    }
   ],
   "source": [
    "#Acceptance rate between drivers who go to bars more than once a month and had passengers that were not a kid \n",
    "#and had occupations other than farming, fishing, or forestry. \n",
    "bar_freq_urban_passenger_df = bar_coupons_df[(bar_coupons_df['Bar'].isin(['1~3', '4~8', 'gt8']))&\n",
    "                                            (bar_coupons_df['passanger'].isin(['Friend(s)', 'Partner']))&\n",
    "                                            (~bar_coupons_df['occupation'].isin(['Farming Fishing & Forestry']))]\n",
    "\n",
    "total_observations = len(bar_freq_urban_passenger_df)\n",
    "acceptances = bar_freq_urban_passenger_df['Y'].sum()\n",
    "if total_observations != 0:\n",
    "    proportion_accepted = acceptances / total_observations\n",
    "    print(f\"Acceptance rate of Bar Coupons of Urban Younger Population who go to bar frequently: {proportion_accepted * 100:.2f}%\")\n",
    "\n",
    "#Acceptance rate between drivers other than the above criteria\n",
    "bar_freq_rural_kid_df = bar_coupons_df[(~bar_coupons_df['Bar'].isin(['1~3', '4~8', 'gt8']))&\n",
    "                                            (bar_coupons_df['passanger'].isin(['Kid(s)','Alone']))&\n",
    "                                            (bar_coupons_df['occupation'].isin(['Farming Fishing & Forestry']))]\n",
    "\n",
    "total_observations = len(bar_freq_rural_kid_df)\n",
    "acceptances = bar_freq_rural_kid_df['Y'].sum()\n",
    "if total_observations != 0:\n",
    "    proportion_accepted = acceptances / total_observations\n",
    "    print(f\"Acceptance rate of Bar Coupons of Rural  Population who go to bar infrequently: {proportion_accepted * 100:.2f}%\")\n"
   ]
  },
  {
   "cell_type": "code",
   "execution_count": null,
   "metadata": {},
   "outputs": [],
   "source": [
    "#Urban vs. Rural and frequency:\n",
    "\n",
    "    #Urban, younger, frequent bar visitors have a much higher acceptance rate (71.79%) \n",
    "    #compared to rural, infrequent visitors (50.00%).\n",
    "\n",
    "    #This suggests that urban youth who frequently visit bars are more likely to use coupons, \n",
    "    #possibly due to lifestyle differences or greater exposure to bar culture."
   ]
  },
  {
   "cell_type": "markdown",
   "metadata": {},
   "source": [
    "6. Compare the acceptance rates between those drivers who:\n",
    "\n",
    "- go to bars more than once a month, had passengers that were not a kid, and were not widowed *OR*\n",
    "- go to bars more than once a month and are under the age of 30 *OR*\n",
    "- go to cheap restaurants more than 4 times a month and income is less than 50K. \n",
    "\n"
   ]
  },
  {
   "cell_type": "code",
   "execution_count": 409,
   "metadata": {},
   "outputs": [],
   "source": [
    "# (1) drivers who go to bars more than once a month, had passengers that were not a kid, and were not widowed\n",
    "bar_freq_1 = bar_coupons_df[(bar_coupons_df['Bar'].isin(['1~3', '4~8', 'gt8']))& (~(bar_coupons_df['passanger'].isin(['Kid(s)'])))&\n",
    "(~bar_coupons_df['maritalStatus'].isin(['Widowed']))]\n",
    "\n",
    "# (2)drivers who go to bars more than once a month and are under the age of 30\n",
    "bar_freq_2 = bar_coupons_df[(bar_coupons_df['Bar'].isin(['1~3', '4~8', 'gt8']))&\n",
    "(bar_coupons_df['age'].isin(['21', '26', 'below21']))]\n",
    "\n",
    "# (3)drivers who go to cheap restaurants more than 4 times a month and income is less than 50K.\n",
    "bar_freq_3 = bar_coupons_df[(bar_coupons_df['RestaurantLessThan20'].isin(['4~8','gt8']))&\n",
    "(bar_coupons_df['income'].isin(['$25000 - $37499  ', '$12500 - $24999', '$37500 - $49999']))]\n",
    "\n",
    "# Drivers who meet (1) OR (2) OR (3)\n",
    "bar_coupons_criteria_6 = pd.concat([bar_freq_1, bar_freq_2, bar_freq_3], ignore_index=True).drop_duplicates()\n",
    "\n",
    "total_observations = len(bar_coupons_criteria_6)\n",
    "acceptances = bar_coupons_criteria_6['Y'].sum()\n",
    "if total_observations != 0:\n",
    "    proportion_accepted = acceptances / total_observations\n",
    "    \n",
    "\n",
    "# Drivers who do not meet any of these criteria.\n",
    "\n",
    "# (1) drivers who go to bars less than once a month, had passengers that were  a kid, and were  widowed\n",
    "\n",
    "bar_freq_1 = bar_coupons_df[(bar_coupons_df['Bar'].isin(['less1']))& ((bar_coupons_df['passanger'].isin(['Kid(s)'])))&\n",
    "(bar_coupons_df['maritalStatus'].isin(['Widowed']))]\n",
    "\n",
    "# (2)drivers who go to bars less than once a month and are over the age of 30\n",
    "\n",
    "bar_freq_2 = bar_coupons_df[(bar_coupons_df['Bar'].isin(['less1']))&\n",
    "(~(bar_coupons_df['age'].isin(['21', '26', 'below21'])))]\n",
    "\n",
    "# (3)drivers who do not go to cheap restaurants more than 4 times a month and income is more than 50K.\n",
    "bar_freq_3 = bar_coupons_df[(~(bar_coupons_df['RestaurantLessThan20'].isin(['4~8','gt8'])))&\n",
    "(~(bar_coupons_df['income'].isin(['$25000 - $37499  ', '$12500 - $24999', '$37500 - $49999'])))]\n",
    "\n",
    "# Drivers who meet (1) OR (2) OR (3)\n",
    "bar_coupons_criteria_not_6 = pd.concat([bar_freq_1, bar_freq_2, bar_freq_3], ignore_index=True).drop_duplicates()\n",
    "\n",
    "total_observations = len(bar_coupons_criteria_not_6)\n",
    "acceptances = bar_coupons_criteria_not_6['Y'].sum()\n",
    "if total_observations != 0:\n",
    "    proportion_accepted = acceptances / total_observations\n",
    "    \n"
   ]
  },
  {
   "cell_type": "code",
   "execution_count": null,
   "metadata": {},
   "outputs": [],
   "source": [
    "#Acceptance rate of Bar Coupons of drivers who meet criteria 6: 64.31%\n",
    "#Acceptance rate of Bar Coupons of drivers who does NOT meet criteria 6: 40.19%\n",
    "\n",
    "#Observation:Even among lower-income groups, those who visit bars frequently demonstrate a higher \n",
    "#coupon acceptance rate."
   ]
  },
  {
   "cell_type": "markdown",
   "metadata": {},
   "source": [
    "7.  Based on these observations, what do you hypothesize about drivers who accepted the bar coupons?"
   ]
  },
  {
   "cell_type": "code",
   "execution_count": 362,
   "metadata": {},
   "outputs": [],
   "source": [
    "# Summary of Bar Coupon Acceptance Rate:\n",
    "#\n",
    "# 1) Regular bar-goers are more inclined to accept bar coupons compared to infrequent visitors, \n",
    "#    suggesting a correlation between bar visit frequency and coupon acceptance likelihood.\n",
    "#\n",
    "# 2) Young urban adults (approximately 25 years old) who frequently visit bars show a higher \n",
    "#    acceptance rate than their rural counterparts who visit bars less often.\n",
    "#\n",
    "# 3) Even among lower-income groups, those who visit bars frequently demonstrate a higher \n",
    "#    coupon acceptance rate."
   ]
  },
  {
   "cell_type": "markdown",
   "metadata": {},
   "source": [
    "### Independent Investigation\n",
    "\n",
    "Using the bar coupon example as motivation, you are to explore one of the other coupon groups and try to determine the characteristics of passengers who accept the coupons.  "
   ]
  },
  {
   "cell_type": "code",
   "execution_count": 287,
   "metadata": {},
   "outputs": [
    {
     "name": "stdout",
     "output_type": "stream",
     "text": [
      "3996\n"
     ]
    }
   ],
   "source": [
    "#Create a new `DataFrame` that contains just the bar coupons.\n",
    "coffee_house_coupons_df = data[data['coupon'] == 'Coffee House']\n"
   ]
  },
  {
   "cell_type": "code",
   "execution_count": 289,
   "metadata": {},
   "outputs": [
    {
     "name": "stdout",
     "output_type": "stream",
     "text": [
      "Percentage of acceptances: 49.92%\n"
     ]
    }
   ],
   "source": [
    "# Calculate the proportion of acceptances\n",
    "total_observations = len(coffee_house_coupons_df)\n",
    "acceptances = coffee_house_coupons_df['Y'].sum()\n",
    "if total_observations != 0:\n",
    "    proportion_accepted = acceptances / total_observations\n",
    "    "
   ]
  },
  {
   "cell_type": "code",
   "execution_count": null,
   "metadata": {},
   "outputs": [],
   "source": [
    "#Percentage of Coffee House Coupon acceptances: 49.92%\n",
    "\n"
   ]
  },
  {
   "cell_type": "code",
   "execution_count": 411,
   "metadata": {
    "scrolled": true
   },
   "outputs": [
    {
     "name": "stdout",
     "output_type": "stream",
     "text": [
      "233\n",
      "Accepted coffee house coupons 2h expiration in the same direction: 47.21%\n",
      "920\n",
      "Accepted coffee house coupons 2h expiration in the opp direction: 49.67%\n"
     ]
    }
   ],
   "source": [
    "# direction_same vs direction_opp\n",
    "# Drivers who accept coffee house coupons while driving in the morning and the coupon is valid in the same direction and coupon expiration is 2h\n",
    "coffee_coupon_same_direction = coffee_house_coupons_df[(coffee_house_coupons_df['direction_same'] == 1)&\n",
    "                                                        (coffee_house_coupons_df['expiration'] == '2h')&\n",
    "                                                        (coffee_house_coupons_df['time'].isin(['7AM', '10AM']) )]\n",
    "\n",
    "total_observations = len(coffee_coupon_same_direction)\n",
    "print(total_observations)\n",
    "acceptances = coffee_coupon_same_direction['Y'].sum()\n",
    "\n",
    "if total_observations != 0:\n",
    "    proportion_accepted = acceptances / total_observations\n",
    "    print(f\"Accepted coffee house coupons 2h expiration in the same direction: {proportion_accepted * 100:.2f}%\")\n",
    "\n",
    "# Drivers who accept coffee house coupons while driving in the morning and the coupon is valid in the opposite direction and coupon expiration is 2h\n",
    "coffee_coupon_opp_direction = coffee_house_coupons_df[(coffee_house_coupons_df['direction_opp'] == 1) &\n",
    "                                                       (coffee_house_coupons_df['expiration'] == '2h')&\n",
    "                                                        (coffee_house_coupons_df['time'].isin(['7AM', '10AM']) )]\n",
    "\n",
    "total_observations = len(coffee_coupon_opp_direction)\n",
    "print(total_observations)\n",
    "acceptances = coffee_coupon_opp_direction['Y'].sum()\n",
    "\n",
    "if total_observations != 0:\n",
    "    proportion_accepted = acceptances / total_observations\n",
    "    print(f\"Accepted coffee house coupons 2h expiration in the opp direction: {proportion_accepted * 100:.2f}%\")"
   ]
  },
  {
   "cell_type": "code",
   "execution_count": null,
   "metadata": {},
   "outputs": [],
   "source": [
    "\n",
    "#Accepted coffee house coupons 2h expiration in the same direction: 47.21% (total acceptances 233)\n",
    "\n",
    "#Accepted coffee house coupons 2h expiration in the opp direction: 49.67% (total acceptances 920)"
   ]
  },
  {
   "cell_type": "code",
   "execution_count": 413,
   "metadata": {},
   "outputs": [],
   "source": [
    "#Acceptance rate of CoffeeHouse Coupon of those who went to a CoffeeHouse 3 or fewer times a month\n",
    "coffee_coupons_fewer_visits = coffee_house_coupons_df[coffee_house_coupons_df['CoffeeHouse'].isin(['1~3', 'less1'])]\n",
    "total_observations = len(coffee_coupons_fewer_visits)\n",
    "acceptances = coffee_coupons_fewer_visits['Y'].sum()\n",
    "\n",
    "if total_observations != 0:\n",
    "    proportion_accepted = acceptances / total_observations\n",
    "    \n",
    "\n",
    "\n",
    "#Acceptance rate of CoffeeHouse Coupon of those who went to a CoffeeHouse more 3 than times a month\n",
    "coffee_coupons_frequent_visits = coffee_house_coupons_df[coffee_house_coupons_df['CoffeeHouse'].isin(['4~8', 'gt8'])]\n",
    "total_observations = len(coffee_coupons_frequent_visits)\n",
    "acceptances = coffee_coupons_frequent_visits['Y'].sum()\n",
    "\n",
    "if total_observations != 0:\n",
    "    proportion_accepted = acceptances / total_observations\n",
    "    "
   ]
  },
  {
   "cell_type": "code",
   "execution_count": null,
   "metadata": {},
   "outputs": [],
   "source": [
    "#Acceptance rate of CoffeeHouse Coupon of those who went to a CoffeeHouse 3 or fewer times a month: 56.35%\n",
    "#Acceptance rate of CoffeeHouse Coupon of those who went to CoffeeHouse bar more than3 times a month: 67.50%"
   ]
  },
  {
   "cell_type": "code",
   "execution_count": 385,
   "metadata": {},
   "outputs": [
    {
     "data": {
      "image/png": "[encoded data removed]",
      "text/plain": [
       "<Figure size 1200x600 with 1 Axes>"
      ]
     },
     "metadata": {},
     "output_type": "display_data"
    }
   ],
   "source": [
    "\n",
    "# Distribution of Age vs Coffe Coupon Acceptance\n",
    "coffee_coupon_accepeted= coffee_house_coupons_df[(coffee_house_coupons_df['Y'] == 1)]\n",
    "coupon_counts = coffee_coupon_accepeted['age'].value_counts()\n",
    "\n",
    "# Create bar plot\n",
    "plt.figure(figsize=(12, 6))\n",
    "bars = plt.bar(coupon_counts.index, coupon_counts.values, color='skyblue', edgecolor='navy')\n",
    "\n",
    "# Label X and Y Axis\n",
    "plt.title('Distribution of Age vs Coffe Coupon Acceptance', fontsize=16)\n",
    "plt.xlabel('Age', fontsize=12)\n",
    "plt.ylabel('Count', fontsize=12)\n",
    "plt.xticks(rotation=45, ha='right')\n",
    "\n",
    "file_path = '/Users/uday.kemburu/Documents/Berkley/PAA5_1/images/independent_histogram_coffecoupon_age_plot.png'\n",
    "\n",
    "# Save the figure\n",
    "plt.savefig(file_path, dpi=300, bbox_inches='tight')\n",
    "\n",
    "# Adjust layout and display the plot\n",
    "plt.tight_layout()\n",
    "plt.show()"
   ]
  },
  {
   "cell_type": "code",
   "execution_count": null,
   "metadata": {},
   "outputs": [],
   "source": []
  },
  {
   "cell_type": "code",
   "execution_count": 419,
   "metadata": {},
   "outputs": [
    {
     "data": {
      "image/png": "[encoded data removed]",
      "text/plain": [
       "<Figure size 1000x600 with 1 Axes>"
      ]
     },
     "metadata": {},
     "output_type": "display_data"
    }
   ],
   "source": [
    "# Coffee House Coupon Acceptance Rate by Passenger Group (Evening Travel)\n",
    "# Filter for coffee house coupons and evening travel\n",
    "coffee_coupons_evening = coffee_house_coupons_df[((coffee_house_coupons_df['time'] == '6PM')|(coffee_house_coupons_df['time'] == '10PM'))]\n",
    "\n",
    "# make a copy of the original data frame.\n",
    "coffee_coupons_evening_copy = coffee_coupons_evening.copy()\n",
    "\n",
    "# Create passenger groups\n",
    "coffee_coupons_evening_copy['passenger_group'] = coffee_coupons_evening_copy['passanger'].apply(lambda x: 'Alone or Friends' if x in ['Alone', 'Friend(s)'] else 'Kids or Partner')\n",
    "\n",
    "# Calculate acceptance rates for each group\n",
    "acceptance_rates = coffee_coupons_evening_copy.groupby('passenger_group')['Y'].agg(['mean', 'count']).reset_index()\n",
    "acceptance_rates.columns = ['passenger_group', 'acceptance_rate', 'count']\n",
    "\n",
    "# Create the bar plot\n",
    "plt.figure(figsize=(10, 6))\n",
    "sns.barplot(x='passenger_group', y='acceptance_rate', data=acceptance_rates)\n",
    "\n",
    "plt.title('Coffee House Coupon Acceptance Rate by Passenger Group (Evening Travel)')\n",
    "plt.xlabel('Passenger Group')\n",
    "plt.ylabel('Acceptance Rate')\n",
    "\n",
    "# Add value labels on top of each bar\n",
    "for i, row in acceptance_rates.iterrows():\n",
    "    plt.text(i, row['acceptance_rate'], f'{row[\"acceptance_rate\"]:.2%}\\n(n={row[\"count\"]})', \n",
    "             ha='center', va='bottom')\n",
    "file_path = '/Users/uday.kemburu/Documents/Berkley/PAA5_1/images/independent_PassengerGroupEveningTravel_plot.png'\n",
    "\n",
    "# Save the figure\n",
    "plt.savefig(file_path, dpi=300, bbox_inches='tight')\n",
    "\n",
    "plt.tight_layout()\n",
    "plt.show()\n",
    "\n"
   ]
  },
  {
   "cell_type": "code",
   "execution_count": null,
   "metadata": {},
   "outputs": [],
   "source": [
    "# Summary and Analysis of Coffee House Coupon Acceptance Patterns:\n",
    "\n",
    "# 1. Coupon Expiration and Direction:\n",
    "#    - 2h expiration, same direction: 47.21% acceptance\n",
    "#    - 2h expiration, opposite direction: 49.67% acceptance\n",
    "#    Analysis: The slight increase in acceptance for opposite direction suggests that\n",
    "#    direction has minimal impact on short-term (2h) coupon acceptance. People might\n",
    "#    be willing to change their route slightly for a coffee opportunity.\n",
    "\n",
    "# 2. Frequency of Coffee House Visits:\n",
    "#    - ≤3 times a month: 56.35% acceptance\n",
    "#    - >3 times a month: 67.50% acceptance\n",
    "#    Analysis: Regular coffee house patrons are significantly more likely to accept\n",
    "#    coupons. This indicates that targeting frequent visitors could be a more\n",
    "#    effective strategy for coupon campaigns.\n",
    "\n",
    "# 3. Age Factor:\n",
    "#    - Higher acceptance rate among younger people (age 21-31)\n",
    "#    Analysis: This suggests that younger adults are more responsive to coffee house\n",
    "#    coupons. This could be due to factors like social habits, budget-consciousness,\n",
    "#    or greater engagement with mobile coupon platforms.\n",
    "\n",
    "# 4. Evening Travel and Companionship:\n",
    "#    - Higher acceptance count and slightly higher percentage for those traveling\n",
    "#      alone or with friends compared to those with kids or partners\n",
    "#    Analysis: Evening coffee consumption seems more appealing to individuals alone\n",
    "#    or with friends. This might reflect different evening routines or social habits\n",
    "#    between these groups.\n",
    "\n",
    "# Overall Analysis:\n",
    "# - Frequency of visits is the strongest predictor of coupon acceptance, suggesting\n",
    "#   loyalty programs or targeted marketing to regular customers could be effective.\n",
    "# - Age plays a significant role, indicating that tailoring campaigns to younger\n",
    "#   adults might yield better results.\n",
    "# - The time of day and travel companionship affect decisions, with evening solo or\n",
    "#   friend outings being more conducive to coffee purchases.\n",
    "# - The direction of travel has minimal impact, suggesting that the convenience of\n",
    "#   the coffee shop location might be less important than other factors.\n",
    "\n",
    "# Recommendations:\n",
    "# 1. Focus marketing efforts on frequent visitors and younger adults.\n",
    "# 2. Consider targeting evening travelers, especially those alone or with friends.\n",
    "# 3. Experiment with coupon expiration times, as the 2-hour window seems effective\n",
    "#    regardless of direction.\n",
    "# 4. Develop strategies to convert less frequent visitors into regular patrons,\n",
    "#    as they show a significant increase in coupon acceptance."
   ]
  }
 ],
 "metadata": {
  "kernelspec": {
   "display_name": "Python 3 (ipykernel)",
   "language": "python",
   "name": "python3"
  },
  "language_info": {
   "codemirror_mode": {
    "name": "ipython",
    "version": 3
   },
   "file_extension": ".py",
   "mimetype": "text/x-python",
   "name": "python",
   "nbconvert_exporter": "python",
   "pygments_lexer": "ipython3",
   "version": "3.11.7"
  },
  "widgets": {
   "application/vnd.jupyter.widget-state+json": {
    "state": {},
    "version_major": 2,
    "version_minor": 0
   }
  }
 },
 "nbformat": 4,
 "nbformat_minor": 4
}
